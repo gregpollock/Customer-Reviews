{
 "cells": [
  {
   "cell_type": "markdown",
   "metadata": {},
   "source": [
    "# Predicting Customer Ratings"
   ]
  },
  {
   "cell_type": "markdown",
   "metadata": {},
   "source": []
  },
  {
   "attachments": {},
   "cell_type": "markdown",
   "metadata": {},
   "source": [
    "People write about their opinions and experiences with products and services all the time. Wouldn’t it be nice to quantify the positivity or negativity of their words so that businesses could streamline their responsiveness to consumer preferences? In my project, I sought to predict how consumers would rate products, services and businesses based on the text of a review they left.\n",
    "\n",
    "The main question I was trying to answer was if it’s possible to predict a positive or negative customer review given the text of the review. Specifically, could I create an accurate classification model that correctly differentiates between 1, 2, 3, 4, and 5-star reviews based on the text of the review.\n",
    "\n",
    "Data was obtained from two Kaggle repositories. The Yelp data is 1,000 reviews by 1,000 different users about 1,000 different businesses. The data obtained from Kaggle was a small portion of the very large Yelp dataset that I initially tried to work with. According to its Kaggle dataset curator, the Amazon dataset consists of reviews from October 1999 to October 2012. Included are 568,454 reviews by 256,059 users about 74,258 products. Overall, the combined dataset has more 5 star reviews than all other categories combined, but There was still a good enough variety of data to put into the models.\n",
    "\n",
    "This data helped me answer my question because the data included real product or service reviews and how they scored the product or service, so by looking at the words used by real people I was able to tell over time the common words or phrases indicating positive or negative reviews and even the magnitude of positivity or negativity with reasonable accuracy."
   ]
  },
  {
   "cell_type": "code",
   "execution_count": null,
   "metadata": {},
   "outputs": [],
   "source": []
  },
  {
   "cell_type": "code",
   "execution_count": null,
   "metadata": {},
   "outputs": [],
   "source": []
  },
  {
   "cell_type": "code",
   "execution_count": null,
   "metadata": {},
   "outputs": [],
   "source": []
  },
  {
   "cell_type": "markdown",
   "metadata": {},
   "source": [
    "## Combining the data"
   ]
  },
  {
   "cell_type": "code",
   "execution_count": 18,
   "metadata": {},
   "outputs": [],
   "source": [
    "import pandas as pd\n",
    "import numpy as np\n",
    "import matplotlib.pyplot as plt"
   ]
  },
  {
   "cell_type": "code",
   "execution_count": 64,
   "metadata": {},
   "outputs": [],
   "source": [
    "data = pd.read_csv(\"amazon/Reviews.csv\")"
   ]
  },
  {
   "cell_type": "code",
   "execution_count": 66,
   "metadata": {},
   "outputs": [],
   "source": [
    "amzn = data[[\"Score\", \"Text\"]]\n",
    "amzn.columns = [\"stars\", \"text\"]"
   ]
  },
  {
   "cell_type": "code",
   "execution_count": 4,
   "metadata": {},
   "outputs": [],
   "source": [
    "dataY = pd.read_csv(\"yelp.csv\")\n",
    "yelp = dataY[[\"stars\", \"text\"]]"
   ]
  },
  {
   "cell_type": "code",
   "execution_count": null,
   "metadata": {},
   "outputs": [],
   "source": [
    "df = amzn.append(yelp).reset_index(drop = True)"
   ]
  },
  {
   "cell_type": "markdown",
   "metadata": {},
   "source": [
    "This is the dataframe that will be used which has both Yelp and Amazon sourced data."
   ]
  },
  {
   "cell_type": "code",
   "execution_count": 21,
   "metadata": {},
   "outputs": [
    {
     "data": {
      "text/html": [
       "<div>\n",
       "<style scoped>\n",
       "    .dataframe tbody tr th:only-of-type {\n",
       "        vertical-align: middle;\n",
       "    }\n",
       "\n",
       "    .dataframe tbody tr th {\n",
       "        vertical-align: top;\n",
       "    }\n",
       "\n",
       "    .dataframe thead th {\n",
       "        text-align: right;\n",
       "    }\n",
       "</style>\n",
       "<table border=\"1\" class=\"dataframe\">\n",
       "  <thead>\n",
       "    <tr style=\"text-align: right;\">\n",
       "      <th></th>\n",
       "      <th>stars</th>\n",
       "      <th>text</th>\n",
       "      <th>source</th>\n",
       "    </tr>\n",
       "  </thead>\n",
       "  <tbody>\n",
       "    <tr>\n",
       "      <th>0</th>\n",
       "      <td>5</td>\n",
       "      <td>I have bought several of the Vitality canned d...</td>\n",
       "      <td>Amazon</td>\n",
       "    </tr>\n",
       "    <tr>\n",
       "      <th>1</th>\n",
       "      <td>1</td>\n",
       "      <td>Product arrived labeled as Jumbo Salted Peanut...</td>\n",
       "      <td>Amazon</td>\n",
       "    </tr>\n",
       "    <tr>\n",
       "      <th>2</th>\n",
       "      <td>4</td>\n",
       "      <td>This is a confection that has been around a fe...</td>\n",
       "      <td>Amazon</td>\n",
       "    </tr>\n",
       "    <tr>\n",
       "      <th>3</th>\n",
       "      <td>2</td>\n",
       "      <td>If you are looking for the secret ingredient i...</td>\n",
       "      <td>Amazon</td>\n",
       "    </tr>\n",
       "    <tr>\n",
       "      <th>4</th>\n",
       "      <td>5</td>\n",
       "      <td>Great taffy at a great price.  There was a wid...</td>\n",
       "      <td>Amazon</td>\n",
       "    </tr>\n",
       "    <tr>\n",
       "      <th>...</th>\n",
       "      <td>...</td>\n",
       "      <td>...</td>\n",
       "      <td>...</td>\n",
       "    </tr>\n",
       "    <tr>\n",
       "      <th>578449</th>\n",
       "      <td>3</td>\n",
       "      <td>First visit...Had lunch here today - used my G...</td>\n",
       "      <td>Yelp</td>\n",
       "    </tr>\n",
       "    <tr>\n",
       "      <th>578450</th>\n",
       "      <td>4</td>\n",
       "      <td>Should be called house of deliciousness!\\n\\nI ...</td>\n",
       "      <td>Yelp</td>\n",
       "    </tr>\n",
       "    <tr>\n",
       "      <th>578451</th>\n",
       "      <td>4</td>\n",
       "      <td>I recently visited Olive and Ivy for business ...</td>\n",
       "      <td>Yelp</td>\n",
       "    </tr>\n",
       "    <tr>\n",
       "      <th>578452</th>\n",
       "      <td>2</td>\n",
       "      <td>My nephew just moved to Scottsdale recently so...</td>\n",
       "      <td>Yelp</td>\n",
       "    </tr>\n",
       "    <tr>\n",
       "      <th>578453</th>\n",
       "      <td>5</td>\n",
       "      <td>4-5 locations.. all 4.5 star average.. I think...</td>\n",
       "      <td>Yelp</td>\n",
       "    </tr>\n",
       "  </tbody>\n",
       "</table>\n",
       "<p>578454 rows × 3 columns</p>\n",
       "</div>"
      ],
      "text/plain": [
       "        stars                                               text  source\n",
       "0           5  I have bought several of the Vitality canned d...  Amazon\n",
       "1           1  Product arrived labeled as Jumbo Salted Peanut...  Amazon\n",
       "2           4  This is a confection that has been around a fe...  Amazon\n",
       "3           2  If you are looking for the secret ingredient i...  Amazon\n",
       "4           5  Great taffy at a great price.  There was a wid...  Amazon\n",
       "...       ...                                                ...     ...\n",
       "578449      3  First visit...Had lunch here today - used my G...    Yelp\n",
       "578450      4  Should be called house of deliciousness!\\n\\nI ...    Yelp\n",
       "578451      4  I recently visited Olive and Ivy for business ...    Yelp\n",
       "578452      2  My nephew just moved to Scottsdale recently so...    Yelp\n",
       "578453      5  4-5 locations.. all 4.5 star average.. I think...    Yelp\n",
       "\n",
       "[578454 rows x 3 columns]"
      ]
     },
     "metadata": {},
     "output_type": "display_data"
    }
   ],
   "source": [
    "display(df)"
   ]
  },
  {
   "cell_type": "code",
   "execution_count": null,
   "metadata": {},
   "outputs": [],
   "source": []
  },
  {
   "cell_type": "code",
   "execution_count": null,
   "metadata": {},
   "outputs": [],
   "source": []
  },
  {
   "cell_type": "code",
   "execution_count": null,
   "metadata": {},
   "outputs": [],
   "source": []
  },
  {
   "attachments": {},
   "cell_type": "markdown",
   "metadata": {},
   "source": [
    "Not much data cleaning had to occur other than the removal of English stop words, but a key part in the analysis was creating a numeric representation of text sentiment. For this, I used the VADER sentiment analysis tool (https://github.com/cjhutto/vaderSentiment) which was designed for analyzing social media posts. I decided to use this method because I’m assuming that people post similarly on social media and in online reviews since in both situations people are writing to a semi-unknown audience in a casual setting. The VADER compound score that was used is a number in the range (-1, 1) where scores at the edges of the range are more extremely positive or negative, and scores close to zero are generally neutral."
   ]
  },
  {
   "cell_type": "markdown",
   "metadata": {},
   "source": [
    "## Feature Creation: Getting the VADER Compound Sentiment Score"
   ]
  },
  {
   "cell_type": "code",
   "execution_count": 73,
   "metadata": {},
   "outputs": [],
   "source": [
    "from nltk import wordpunct_tokenize, word_tokenize, sent_tokenize\n",
    "from nltk.corpus import stopwords\n",
    "from nltk.sentiment.vader import SentimentIntensityAnalyzer"
   ]
  },
  {
   "cell_type": "code",
   "execution_count": 74,
   "metadata": {},
   "outputs": [],
   "source": [
    "tokens = df['text'].apply(lambda x: wordpunct_tokenize(x))\n",
    "df['tokens'] = tokens"
   ]
  },
  {
   "cell_type": "code",
   "execution_count": 75,
   "metadata": {},
   "outputs": [],
   "source": [
    "sw = stopwords.words('english')"
   ]
  },
  {
   "cell_type": "code",
   "execution_count": 76,
   "metadata": {},
   "outputs": [],
   "source": [
    "df['tokens'] = df['tokens'].apply(lambda x: [word for word in x if word not in sw])"
   ]
  },
  {
   "cell_type": "code",
   "execution_count": 77,
   "metadata": {},
   "outputs": [],
   "source": [
    "sid = SentimentIntensityAnalyzer()"
   ]
  },
  {
   "cell_type": "code",
   "execution_count": 78,
   "metadata": {},
   "outputs": [],
   "source": [
    "df['scores'] = df['tokens'].apply(lambda x: sid.polarity_scores(\" \".join(x))['compound'])"
   ]
  },
  {
   "cell_type": "markdown",
   "metadata": {},
   "source": [
    "Once I calculated the sentiment score, this what the dataframe looked like."
   ]
  },
  {
   "cell_type": "code",
   "execution_count": 79,
   "metadata": {},
   "outputs": [
    {
     "data": {
      "text/html": [
       "<div>\n",
       "<style scoped>\n",
       "    .dataframe tbody tr th:only-of-type {\n",
       "        vertical-align: middle;\n",
       "    }\n",
       "\n",
       "    .dataframe tbody tr th {\n",
       "        vertical-align: top;\n",
       "    }\n",
       "\n",
       "    .dataframe thead th {\n",
       "        text-align: right;\n",
       "    }\n",
       "</style>\n",
       "<table border=\"1\" class=\"dataframe\">\n",
       "  <thead>\n",
       "    <tr style=\"text-align: right;\">\n",
       "      <th></th>\n",
       "      <th>stars</th>\n",
       "      <th>text</th>\n",
       "      <th>source</th>\n",
       "      <th>tokens</th>\n",
       "      <th>scores</th>\n",
       "    </tr>\n",
       "  </thead>\n",
       "  <tbody>\n",
       "    <tr>\n",
       "      <th>0</th>\n",
       "      <td>5</td>\n",
       "      <td>I have bought several of the Vitality canned d...</td>\n",
       "      <td>Amazon</td>\n",
       "      <td>[I, bought, several, Vitality, canned, dog, fo...</td>\n",
       "      <td>0.9413</td>\n",
       "    </tr>\n",
       "    <tr>\n",
       "      <th>1</th>\n",
       "      <td>1</td>\n",
       "      <td>Product arrived labeled as Jumbo Salted Peanut...</td>\n",
       "      <td>Amazon</td>\n",
       "      <td>[Product, arrived, labeled, Jumbo, Salted, Pea...</td>\n",
       "      <td>0.0762</td>\n",
       "    </tr>\n",
       "    <tr>\n",
       "      <th>2</th>\n",
       "      <td>4</td>\n",
       "      <td>This is a confection that has been around a fe...</td>\n",
       "      <td>Amazon</td>\n",
       "      <td>[This, confection, around, centuries, ., It, l...</td>\n",
       "      <td>0.8073</td>\n",
       "    </tr>\n",
       "    <tr>\n",
       "      <th>3</th>\n",
       "      <td>2</td>\n",
       "      <td>If you are looking for the secret ingredient i...</td>\n",
       "      <td>Amazon</td>\n",
       "      <td>[If, looking, secret, ingredient, Robitussin, ...</td>\n",
       "      <td>0.4404</td>\n",
       "    </tr>\n",
       "    <tr>\n",
       "      <th>4</th>\n",
       "      <td>5</td>\n",
       "      <td>Great taffy at a great price.  There was a wid...</td>\n",
       "      <td>Amazon</td>\n",
       "      <td>[Great, taffy, great, price, ., There, wide, a...</td>\n",
       "      <td>0.9468</td>\n",
       "    </tr>\n",
       "    <tr>\n",
       "      <th>...</th>\n",
       "      <td>...</td>\n",
       "      <td>...</td>\n",
       "      <td>...</td>\n",
       "      <td>...</td>\n",
       "      <td>...</td>\n",
       "    </tr>\n",
       "    <tr>\n",
       "      <th>578449</th>\n",
       "      <td>3</td>\n",
       "      <td>First visit...Had lunch here today - used my G...</td>\n",
       "      <td>Yelp</td>\n",
       "      <td>[First, visit, ..., Had, lunch, today, -, used...</td>\n",
       "      <td>0.8807</td>\n",
       "    </tr>\n",
       "    <tr>\n",
       "      <th>578450</th>\n",
       "      <td>4</td>\n",
       "      <td>Should be called house of deliciousness!\\n\\nI ...</td>\n",
       "      <td>Yelp</td>\n",
       "      <td>[Should, called, house, deliciousness, !, I, c...</td>\n",
       "      <td>0.9925</td>\n",
       "    </tr>\n",
       "    <tr>\n",
       "      <th>578451</th>\n",
       "      <td>4</td>\n",
       "      <td>I recently visited Olive and Ivy for business ...</td>\n",
       "      <td>Yelp</td>\n",
       "      <td>[I, recently, visited, Olive, Ivy, business, l...</td>\n",
       "      <td>0.9937</td>\n",
       "    </tr>\n",
       "    <tr>\n",
       "      <th>578452</th>\n",
       "      <td>2</td>\n",
       "      <td>My nephew just moved to Scottsdale recently so...</td>\n",
       "      <td>Yelp</td>\n",
       "      <td>[My, nephew, moved, Scottsdale, recently, bunc...</td>\n",
       "      <td>-0.9491</td>\n",
       "    </tr>\n",
       "    <tr>\n",
       "      <th>578453</th>\n",
       "      <td>5</td>\n",
       "      <td>4-5 locations.. all 4.5 star average.. I think...</td>\n",
       "      <td>Yelp</td>\n",
       "      <td>[4, -, 5, locations, .., 4, ., 5, star, averag...</td>\n",
       "      <td>0.9628</td>\n",
       "    </tr>\n",
       "  </tbody>\n",
       "</table>\n",
       "<p>578454 rows × 5 columns</p>\n",
       "</div>"
      ],
      "text/plain": [
       "        stars                                               text  source  \\\n",
       "0           5  I have bought several of the Vitality canned d...  Amazon   \n",
       "1           1  Product arrived labeled as Jumbo Salted Peanut...  Amazon   \n",
       "2           4  This is a confection that has been around a fe...  Amazon   \n",
       "3           2  If you are looking for the secret ingredient i...  Amazon   \n",
       "4           5  Great taffy at a great price.  There was a wid...  Amazon   \n",
       "...       ...                                                ...     ...   \n",
       "578449      3  First visit...Had lunch here today - used my G...    Yelp   \n",
       "578450      4  Should be called house of deliciousness!\\n\\nI ...    Yelp   \n",
       "578451      4  I recently visited Olive and Ivy for business ...    Yelp   \n",
       "578452      2  My nephew just moved to Scottsdale recently so...    Yelp   \n",
       "578453      5  4-5 locations.. all 4.5 star average.. I think...    Yelp   \n",
       "\n",
       "                                                   tokens  scores  \n",
       "0       [I, bought, several, Vitality, canned, dog, fo...  0.9413  \n",
       "1       [Product, arrived, labeled, Jumbo, Salted, Pea...  0.0762  \n",
       "2       [This, confection, around, centuries, ., It, l...  0.8073  \n",
       "3       [If, looking, secret, ingredient, Robitussin, ...  0.4404  \n",
       "4       [Great, taffy, great, price, ., There, wide, a...  0.9468  \n",
       "...                                                   ...     ...  \n",
       "578449  [First, visit, ..., Had, lunch, today, -, used...  0.8807  \n",
       "578450  [Should, called, house, deliciousness, !, I, c...  0.9925  \n",
       "578451  [I, recently, visited, Olive, Ivy, business, l...  0.9937  \n",
       "578452  [My, nephew, moved, Scottsdale, recently, bunc... -0.9491  \n",
       "578453  [4, -, 5, locations, .., 4, ., 5, star, averag...  0.9628  \n",
       "\n",
       "[578454 rows x 5 columns]"
      ]
     },
     "metadata": {},
     "output_type": "display_data"
    }
   ],
   "source": [
    "display(df)"
   ]
  },
  {
   "cell_type": "markdown",
   "metadata": {},
   "source": [
    "## Models to predict star rating"
   ]
  },
  {
   "cell_type": "markdown",
   "metadata": {},
   "source": [
    "There was enough data in each star category in general to train models, but one might be interested in the distribution of star ratings in the datasets and combined.\n",
    "\n",
    "The Amazon dataset was many times larger than the Yelp dataset, so the distribution of the combined dataset is dominated by the Amazon data distribution of star ratings.\n",
    "\n",
    "Below we see first the Amazon distribution of star ratings followed by the Yelp distribution, and finally the combined dataset."
   ]
  },
  {
   "cell_type": "code",
   "execution_count": 83,
   "metadata": {},
   "outputs": [
    {
     "data": {
      "image/png": "[encoded data removed]",
      "text/plain": [
       "<Figure size 432x288 with 1 Axes>"
      ]
     },
     "metadata": {
      "needs_background": "light"
     },
     "output_type": "display_data"
    },
    {
     "data": {
      "image/png": "[encoded data removed]",
      "text/plain": [
       "<Figure size 432x288 with 1 Axes>"
      ]
     },
     "metadata": {
      "needs_background": "light"
     },
     "output_type": "display_data"
    },
    {
     "data": {
      "image/png": "[encoded data removed]",
      "text/plain": [
       "<Figure size 432x288 with 1 Axes>"
      ]
     },
     "metadata": {
      "needs_background": "light"
     },
     "output_type": "display_data"
    }
   ],
   "source": [
    "plt.hist(amzn['stars'], bins=10)\n",
    "plt.title(\"Distribution of Amazon Star Ratings\"); plt.xlabel(\"stars\"); plt.ylabel(\"count\"); plt.ylim((0,400000)); plt.show()\n",
    "\n",
    "plt.hist(yelp['stars'], bins=10)\n",
    "plt.title(\"Distribution of Yelp Star Ratings\"); plt.xlabel(\"stars\"); plt.ylabel(\"count\"); plt.ylim((0,400000)); plt.show()\n",
    "\n",
    "plt.hist(df['stars'], bins=10)\n",
    "plt.title(\"Combined Distribution of Star Ratings\"); plt.xlabel(\"stars\"); plt.ylabel(\"count\"); plt.ylim((0,400000)); plt.show()"
   ]
  },
  {
   "cell_type": "code",
   "execution_count": 23,
   "metadata": {},
   "outputs": [],
   "source": [
    "from sklearn.model_selection import train_test_split"
   ]
  },
  {
   "cell_type": "code",
   "execution_count": 59,
   "metadata": {},
   "outputs": [],
   "source": [
    "from sklearn.naive_bayes import MultinomialNB\n",
    "from sklearn.ensemble import RandomForestClassifier"
   ]
  },
  {
   "cell_type": "code",
   "execution_count": 94,
   "metadata": {},
   "outputs": [],
   "source": [
    "train, test = train_test_split(df, test_size=.3, stratify=df.stars, random_state=315)"
   ]
  },
  {
   "cell_type": "markdown",
   "metadata": {},
   "source": [
    "### Multinomial Naive Bayes"
   ]
  },
  {
   "cell_type": "code",
   "execution_count": 123,
   "metadata": {},
   "outputs": [
    {
     "name": "stdout",
     "output_type": "stream",
     "text": [
      "Multinomial Naive Bayes\n",
      "F1 Score:\t 0.4913815097099383\n",
      "Accuracy Score:\t 0.6335133141635502\n",
      "Recall Score:\t 0.6335133141635502\n"
     ]
    }
   ],
   "source": [
    "nb = MultinomialNB()\n",
    "\n",
    "nb.fit(np.array(train['scores'] + 1).reshape(-1, 1), train['stars'])\n",
    "\n",
    "yhat = nb.predict(np.array(test['scores'] + 1).reshape(-1, 1))\n",
    "\n",
    "#match = np.where(yhat == test['stars'], 1, 0)\n",
    "#np.mean(match) # ACCURACY\n",
    "\n",
    "print(\"Multinomial Naive Bayes\")\n",
    "print(\"F1 Score:\\t\", f1_score(test['stars'], yhat, average = 'weighted'))\n",
    "print(\"Accuracy Score:\\t\", accuracy_score(test['stars'], yhat))\n",
    "#print(\"Precision Score:\", precision_score(test['stars'], yhat, average = 'weighted'))\n",
    "print(\"Recall Score:\\t\", recall_score(test['stars'], yhat, average = 'weighted'))"
   ]
  },
  {
   "cell_type": "markdown",
   "metadata": {},
   "source": [
    "### Random forest classifier"
   ]
  },
  {
   "cell_type": "code",
   "execution_count": 119,
   "metadata": {},
   "outputs": [
    {
     "name": "stdout",
     "output_type": "stream",
     "text": [
      "Random Forest Classifier\n",
      "F1 Score:\t 0.5573812923671442\n",
      "Accuracy Score:\t 0.6544483309034961\n",
      "Precision Score: 0.5715898267542256\n",
      "Recall Score:\t 0.6544483309034961\n"
     ]
    }
   ],
   "source": [
    "rfc = RandomForestClassifier()\n",
    "\n",
    "rfc.fit(np.array(train['scores']).reshape(-1, 1), train['stars'])\n",
    "\n",
    "yhat = rfc.predict(np.array(test['scores']).reshape(-1, 1))\n",
    "\n",
    "#match = np.where(yhat == test['stars'], 1, 0)\n",
    "#np.mean(match) # ACCURACY\n",
    "\n",
    "print(\"Random Forest Classifier\")\n",
    "print(\"F1 Score:\\t\", f1_score(test['stars'], yhat, average = 'weighted'))\n",
    "print(\"Accuracy Score:\\t\", accuracy_score(test['stars'], yhat))\n",
    "print(\"Precision Score:\", precision_score(test['stars'], yhat, average = 'weighted'))\n",
    "print(\"Recall Score:\\t\", recall_score(test['stars'], yhat, average = 'weighted'))"
   ]
  },
  {
   "cell_type": "markdown",
   "metadata": {},
   "source": [
    "## Models to detect a positive star rating"
   ]
  },
  {
   "cell_type": "markdown",
   "metadata": {},
   "source": [
    "In this section I use a different target variable - 'positive' to train models to differentiate between negative reviews (1&2 stars) and positive reviews (4&5 stars)."
   ]
  },
  {
   "cell_type": "code",
   "execution_count": 131,
   "metadata": {},
   "outputs": [],
   "source": [
    "df_no_3 = df.loc[df['stars'] != 3,:].reset_index()"
   ]
  },
  {
   "cell_type": "code",
   "execution_count": 132,
   "metadata": {},
   "outputs": [],
   "source": [
    "df_no_3['positive'] = df_no_3['stars'].apply(lambda x: 1 if x > 3 else 0)"
   ]
  },
  {
   "cell_type": "code",
   "execution_count": 135,
   "metadata": {},
   "outputs": [],
   "source": [
    "train_2, test_2 = train_test_split(df_no_3, test_size=.3, stratify=df_no_3['positive'], random_state=754)"
   ]
  },
  {
   "cell_type": "markdown",
   "metadata": {},
   "source": [
    "### Multinomial Naive Bayes"
   ]
  },
  {
   "cell_type": "code",
   "execution_count": 148,
   "metadata": {},
   "outputs": [
    {
     "name": "stdout",
     "output_type": "stream",
     "text": [
      "Multinomial Naive Bayes\n",
      "F1 Score:\t 0.7716629664127549\n",
      "Accuracy Score:\t 0.8433371177622796\n",
      "Recall Score:\t 0.8433371177622796\n"
     ]
    }
   ],
   "source": [
    "nb = MultinomialNB()\n",
    "\n",
    "nb.fit(np.array(train_2['scores'] + 1).reshape(-1, 1), train_2['positive'])\n",
    "\n",
    "yhat = nb.predict(np.array(test_2['positive'] + 1).reshape(-1, 1))\n",
    "\n",
    "#match = np.where(yhat == test['stars'], 1, 0)\n",
    "#np.mean(match) # ACCURACY\n",
    "\n",
    "print(\"Multinomial Naive Bayes\")\n",
    "print(\"F1 Score:\\t\", f1_score(test_2['positive'], yhat, average = 'weighted'))\n",
    "print(\"Accuracy Score:\\t\", accuracy_score(test_2['positive'], yhat))\n",
    "#print(\"Precision Score:\", precision_score(test_2['positive'], yhat, average = 'weighted'))\n",
    "print(\"Recall Score:\\t\", recall_score(test_2['positive'], yhat, average = 'weighted'))"
   ]
  },
  {
   "cell_type": "markdown",
   "metadata": {},
   "source": [
    "### Random forest classifier"
   ]
  },
  {
   "cell_type": "code",
   "execution_count": 149,
   "metadata": {},
   "outputs": [],
   "source": [
    "rfc = RandomForestClassifier()\n",
    "\n",
    "rfc.fit(np.array(train_2['scores'] + 1).reshape(-1, 1), train_2['positive'])\n",
    "\n",
    "yhat = rfc.predict(np.array(test_2['positive'] + 1).reshape(-1, 1))\n",
    "\n",
    "#match = np.where(yhat == test['stars'], 1, 0)\n",
    "#np.mean(match) # ACCURACY\n"
   ]
  },
  {
   "cell_type": "code",
   "execution_count": 147,
   "metadata": {},
   "outputs": [
    {
     "name": "stdout",
     "output_type": "stream",
     "text": [
      "Random Forest Classifier\n",
      "F1 Score:\t 0.7716629664127549\n",
      "Accuracy Score:\t 0.8433371177622796\n",
      "Precision Score: 0.711217494195589\n",
      "Recall Score:\t 0.8433371177622796\n"
     ]
    }
   ],
   "source": [
    "print(\"Random Forest Classifier\")\n",
    "print(\"F1 Score:\\t\", f1_score(test_2['positive'], yhat, average = 'weighted'))\n",
    "print(\"Accuracy Score:\\t\", accuracy_score(test_2['positive'], yhat))\n",
    "print(\"Precision Score:\", precision_score(test_2['positive'], yhat, average = 'weighted'))\n",
    "print(\"Recall Score:\\t\", recall_score(test_2['positive'], yhat, average = 'weighted'))"
   ]
  },
  {
   "cell_type": "code",
   "execution_count": null,
   "metadata": {},
   "outputs": [],
   "source": []
  },
  {
   "cell_type": "code",
   "execution_count": null,
   "metadata": {},
   "outputs": [],
   "source": []
  },
  {
   "cell_type": "code",
   "execution_count": null,
   "metadata": {},
   "outputs": [],
   "source": []
  },
  {
   "cell_type": "code",
   "execution_count": null,
   "metadata": {},
   "outputs": [],
   "source": []
  },
  {
   "cell_type": "code",
   "execution_count": null,
   "metadata": {},
   "outputs": [],
   "source": []
  }
 ],
 "metadata": {
  "kernelspec": {
   "display_name": "Python 3",
   "language": "python",
   "name": "python3"
  },
  "language_info": {
   "codemirror_mode": {
    "name": "ipython",
    "version": 3
   },
   "file_extension": ".py",
   "mimetype": "text/x-python",
   "name": "python",
   "nbconvert_exporter": "python",
   "pygments_lexer": "ipython3",
   "version": "3.7.7"
  }
 },
 "nbformat": 4,
 "nbformat_minor": 4
}
