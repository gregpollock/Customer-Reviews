{
 "cells": [
  {
   "cell_type": "markdown",
   "metadata": {},
   "source": [
    "# Combining the data"
   ]
  },
  {
   "cell_type": "code",
   "execution_count": null,
   "metadata": {},
   "outputs": [],
   "source": [
    "import pandas as pd\n",
    "import numpy as np"
   ]
  },
  {
   "cell_type": "code",
   "execution_count": 139,
   "metadata": {},
   "outputs": [],
   "source": [
    "data = pd.read_csv(\"amazon/Reviews.csv\")"
   ]
  },
  {
   "cell_type": "code",
   "execution_count": 141,
   "metadata": {},
   "outputs": [
    {
     "name": "stderr",
     "output_type": "stream",
     "text": [
      "/Users/gregpollock/anaconda3/lib/python3.7/site-packages/ipykernel_launcher.py:3: SettingWithCopyWarning: \n",
      "A value is trying to be set on a copy of a slice from a DataFrame.\n",
      "Try using .loc[row_indexer,col_indexer] = value instead\n",
      "\n",
      "See the caveats in the documentation: https://pandas.pydata.org/pandas-docs/stable/user_guide/indexing.html#returning-a-view-versus-a-copy\n",
      "  This is separate from the ipykernel package so we can avoid doing imports until\n"
     ]
    }
   ],
   "source": [
    "amzn = data[[\"Score\", \"Text\"]]\n",
    "amzn.columns = [\"stars\", \"text\"]\n",
    "amzn[\"source\"] = \"Amazon\""
   ]
  },
  {
   "cell_type": "code",
   "execution_count": null,
   "metadata": {},
   "outputs": [],
   "source": []
  },
  {
   "cell_type": "code",
   "execution_count": 5,
   "metadata": {},
   "outputs": [],
   "source": [
    "dataY = pd.read_csv(\"yelp.csv\")"
   ]
  },
  {
   "cell_type": "code",
   "execution_count": 6,
   "metadata": {},
   "outputs": [
    {
     "name": "stderr",
     "output_type": "stream",
     "text": [
      "/Users/gregpollock/anaconda3/lib/python3.7/site-packages/ipykernel_launcher.py:2: SettingWithCopyWarning: \n",
      "A value is trying to be set on a copy of a slice from a DataFrame.\n",
      "Try using .loc[row_indexer,col_indexer] = value instead\n",
      "\n",
      "See the caveats in the documentation: https://pandas.pydata.org/pandas-docs/stable/user_guide/indexing.html#returning-a-view-versus-a-copy\n",
      "  \n"
     ]
    }
   ],
   "source": [
    "yelp = dataY[[\"stars\", \"text\"]]\n",
    "yelp[\"source\"] = \"Yelp\""
   ]
  },
  {
   "cell_type": "code",
   "execution_count": null,
   "metadata": {},
   "outputs": [],
   "source": []
  },
  {
   "cell_type": "code",
   "execution_count": 8,
   "metadata": {},
   "outputs": [],
   "source": [
    "df = amzn.append(yelp).reset_index(drop = True)"
   ]
  },
  {
   "cell_type": "markdown",
   "metadata": {},
   "source": [
    "This is the dataframe that will be used which has both Yelp and Amazon sourced data."
   ]
  },
  {
   "cell_type": "code",
   "execution_count": 9,
   "metadata": {},
   "outputs": [
    {
     "data": {
      "text/html": [
       "<div>\n",
       "<style scoped>\n",
       "    .dataframe tbody tr th:only-of-type {\n",
       "        vertical-align: middle;\n",
       "    }\n",
       "\n",
       "    .dataframe tbody tr th {\n",
       "        vertical-align: top;\n",
       "    }\n",
       "\n",
       "    .dataframe thead th {\n",
       "        text-align: right;\n",
       "    }\n",
       "</style>\n",
       "<table border=\"1\" class=\"dataframe\">\n",
       "  <thead>\n",
       "    <tr style=\"text-align: right;\">\n",
       "      <th></th>\n",
       "      <th>stars</th>\n",
       "      <th>text</th>\n",
       "      <th>source</th>\n",
       "    </tr>\n",
       "  </thead>\n",
       "  <tbody>\n",
       "    <tr>\n",
       "      <th>0</th>\n",
       "      <td>5</td>\n",
       "      <td>I have bought several of the Vitality canned d...</td>\n",
       "      <td>Amazon</td>\n",
       "    </tr>\n",
       "    <tr>\n",
       "      <th>1</th>\n",
       "      <td>1</td>\n",
       "      <td>Product arrived labeled as Jumbo Salted Peanut...</td>\n",
       "      <td>Amazon</td>\n",
       "    </tr>\n",
       "    <tr>\n",
       "      <th>2</th>\n",
       "      <td>4</td>\n",
       "      <td>This is a confection that has been around a fe...</td>\n",
       "      <td>Amazon</td>\n",
       "    </tr>\n",
       "    <tr>\n",
       "      <th>3</th>\n",
       "      <td>2</td>\n",
       "      <td>If you are looking for the secret ingredient i...</td>\n",
       "      <td>Amazon</td>\n",
       "    </tr>\n",
       "    <tr>\n",
       "      <th>4</th>\n",
       "      <td>5</td>\n",
       "      <td>Great taffy at a great price.  There was a wid...</td>\n",
       "      <td>Amazon</td>\n",
       "    </tr>\n",
       "    <tr>\n",
       "      <th>...</th>\n",
       "      <td>...</td>\n",
       "      <td>...</td>\n",
       "      <td>...</td>\n",
       "    </tr>\n",
       "    <tr>\n",
       "      <th>578449</th>\n",
       "      <td>3</td>\n",
       "      <td>First visit...Had lunch here today - used my G...</td>\n",
       "      <td>Yelp</td>\n",
       "    </tr>\n",
       "    <tr>\n",
       "      <th>578450</th>\n",
       "      <td>4</td>\n",
       "      <td>Should be called house of deliciousness!\\n\\nI ...</td>\n",
       "      <td>Yelp</td>\n",
       "    </tr>\n",
       "    <tr>\n",
       "      <th>578451</th>\n",
       "      <td>4</td>\n",
       "      <td>I recently visited Olive and Ivy for business ...</td>\n",
       "      <td>Yelp</td>\n",
       "    </tr>\n",
       "    <tr>\n",
       "      <th>578452</th>\n",
       "      <td>2</td>\n",
       "      <td>My nephew just moved to Scottsdale recently so...</td>\n",
       "      <td>Yelp</td>\n",
       "    </tr>\n",
       "    <tr>\n",
       "      <th>578453</th>\n",
       "      <td>5</td>\n",
       "      <td>4-5 locations.. all 4.5 star average.. I think...</td>\n",
       "      <td>Yelp</td>\n",
       "    </tr>\n",
       "  </tbody>\n",
       "</table>\n",
       "<p>578454 rows × 3 columns</p>\n",
       "</div>"
      ],
      "text/plain": [
       "        stars                                               text  source\n",
       "0           5  I have bought several of the Vitality canned d...  Amazon\n",
       "1           1  Product arrived labeled as Jumbo Salted Peanut...  Amazon\n",
       "2           4  This is a confection that has been around a fe...  Amazon\n",
       "3           2  If you are looking for the secret ingredient i...  Amazon\n",
       "4           5  Great taffy at a great price.  There was a wid...  Amazon\n",
       "...       ...                                                ...     ...\n",
       "578449      3  First visit...Had lunch here today - used my G...    Yelp\n",
       "578450      4  Should be called house of deliciousness!\\n\\nI ...    Yelp\n",
       "578451      4  I recently visited Olive and Ivy for business ...    Yelp\n",
       "578452      2  My nephew just moved to Scottsdale recently so...    Yelp\n",
       "578453      5  4-5 locations.. all 4.5 star average.. I think...    Yelp\n",
       "\n",
       "[578454 rows x 3 columns]"
      ]
     },
     "metadata": {},
     "output_type": "display_data"
    }
   ],
   "source": [
    "display(df)"
   ]
  },
  {
   "cell_type": "markdown",
   "metadata": {},
   "source": [
    "# Getting the VADER compound sentiment score"
   ]
  },
  {
   "cell_type": "code",
   "execution_count": 10,
   "metadata": {},
   "outputs": [],
   "source": [
    "from nltk import wordpunct_tokenize, word_tokenize, sent_tokenize\n",
    "from nltk.corpus import stopwords\n",
    "from nltk.sentiment.vader import SentimentIntensityAnalyzer"
   ]
  },
  {
   "cell_type": "code",
   "execution_count": 11,
   "metadata": {},
   "outputs": [],
   "source": [
    "tokens = df['text'].apply(lambda x: wordpunct_tokenize(x))\n",
    "df['tokens'] = tokens"
   ]
  },
  {
   "cell_type": "code",
   "execution_count": 14,
   "metadata": {},
   "outputs": [],
   "source": [
    "sw = stopwords.words('english')"
   ]
  },
  {
   "cell_type": "code",
   "execution_count": 16,
   "metadata": {},
   "outputs": [],
   "source": [
    "df['tokens'] = df['tokens'].apply(lambda x: [word for word in x if word not in sw])"
   ]
  },
  {
   "cell_type": "code",
   "execution_count": 18,
   "metadata": {},
   "outputs": [],
   "source": [
    "sid = SentimentIntensityAnalyzer()"
   ]
  },
  {
   "cell_type": "code",
   "execution_count": 20,
   "metadata": {},
   "outputs": [],
   "source": [
    "df['scores'] = df['tokens'].apply(lambda x: sid.polarity_scores(\" \".join(x))['compound'])"
   ]
  },
  {
   "cell_type": "markdown",
   "metadata": {},
   "source": [
    "Now that I have calculated the sentiment score, this what the dataframe looks like."
   ]
  },
  {
   "cell_type": "code",
   "execution_count": null,
   "metadata": {},
   "outputs": [],
   "source": [
    "display(df)"
   ]
  },
  {
   "cell_type": "markdown",
   "metadata": {},
   "source": [
    "# Models to predict star rating"
   ]
  },
  {
   "cell_type": "code",
   "execution_count": 23,
   "metadata": {},
   "outputs": [],
   "source": [
    "from sklearn.model_selection import train_test_split"
   ]
  },
  {
   "cell_type": "code",
   "execution_count": 59,
   "metadata": {},
   "outputs": [],
   "source": [
    "from sklearn.naive_bayes import MultinomialNB\n",
    "from sklearn.ensemble import RandomForestClassifier"
   ]
  },
  {
   "cell_type": "code",
   "execution_count": 94,
   "metadata": {},
   "outputs": [],
   "source": [
    "train, test = train_test_split(df, test_size=.3, stratify=df.stars, random_state=315)"
   ]
  },
  {
   "cell_type": "markdown",
   "metadata": {},
   "source": [
    "## Multinomial Naive Bayes"
   ]
  },
  {
   "cell_type": "code",
   "execution_count": 123,
   "metadata": {},
   "outputs": [
    {
     "name": "stdout",
     "output_type": "stream",
     "text": [
      "Multinomial Naive Bayes\n",
      "F1 Score:\t 0.4913815097099383\n",
      "Accuracy Score:\t 0.6335133141635502\n",
      "Recall Score:\t 0.6335133141635502\n"
     ]
    }
   ],
   "source": [
    "nb = MultinomialNB()\n",
    "\n",
    "nb.fit(np.array(train['scores'] + 1).reshape(-1, 1), train['stars'])\n",
    "\n",
    "yhat = nb.predict(np.array(test['scores'] + 1).reshape(-1, 1))\n",
    "\n",
    "#match = np.where(yhat == test['stars'], 1, 0)\n",
    "#np.mean(match) # ACCURACY\n",
    "\n",
    "print(\"Multinomial Naive Bayes\")\n",
    "print(\"F1 Score:\\t\", f1_score(test['stars'], yhat, average = 'weighted'))\n",
    "print(\"Accuracy Score:\\t\", accuracy_score(test['stars'], yhat))\n",
    "#print(\"Precision Score:\", precision_score(test['stars'], yhat, average = 'weighted'))\n",
    "print(\"Recall Score:\\t\", recall_score(test['stars'], yhat, average = 'weighted'))"
   ]
  },
  {
   "cell_type": "markdown",
   "metadata": {},
   "source": [
    "## Random forest classifier"
   ]
  },
  {
   "cell_type": "code",
   "execution_count": 119,
   "metadata": {},
   "outputs": [
    {
     "name": "stdout",
     "output_type": "stream",
     "text": [
      "Random Forest Classifier\n",
      "F1 Score:\t 0.5573812923671442\n",
      "Accuracy Score:\t 0.6544483309034961\n",
      "Precision Score: 0.5715898267542256\n",
      "Recall Score:\t 0.6544483309034961\n"
     ]
    }
   ],
   "source": [
    "rfc = RandomForestClassifier()\n",
    "\n",
    "rfc.fit(np.array(train['scores']).reshape(-1, 1), train['stars'])\n",
    "\n",
    "yhat = rfc.predict(np.array(test['scores']).reshape(-1, 1))\n",
    "\n",
    "#match = np.where(yhat == test['stars'], 1, 0)\n",
    "#np.mean(match) # ACCURACY\n",
    "\n",
    "print(\"Random Forest Classifier\")\n",
    "print(\"F1 Score:\\t\", f1_score(test['stars'], yhat, average = 'weighted'))\n",
    "print(\"Accuracy Score:\\t\", accuracy_score(test['stars'], yhat))\n",
    "print(\"Precision Score:\", precision_score(test['stars'], yhat, average = 'weighted'))\n",
    "print(\"Recall Score:\\t\", recall_score(test['stars'], yhat, average = 'weighted'))"
   ]
  },
  {
   "cell_type": "markdown",
   "metadata": {},
   "source": [
    "# Models to detect a positive star rating"
   ]
  },
  {
   "cell_type": "markdown",
   "metadata": {},
   "source": [
    "In this section I use a different target variable - 'positive' to train models to differentiate between negative reviews (1&2 stars) and positive reviews (4&5 stars)."
   ]
  },
  {
   "cell_type": "code",
   "execution_count": 131,
   "metadata": {},
   "outputs": [],
   "source": [
    "df_no_3 = df.loc[df['stars'] != 3,:].reset_index()"
   ]
  },
  {
   "cell_type": "code",
   "execution_count": 132,
   "metadata": {},
   "outputs": [],
   "source": [
    "df_no_3['positive'] = df_no_3['stars'].apply(lambda x: 1 if x > 3 else 0)"
   ]
  },
  {
   "cell_type": "code",
   "execution_count": 135,
   "metadata": {},
   "outputs": [],
   "source": [
    "train_2, test_2 = train_test_split(df_no_3, test_size=.3, stratify=df_no_3['positive'], random_state=754)"
   ]
  },
  {
   "cell_type": "markdown",
   "metadata": {},
   "source": [
    "## Multinomial Naive Bayes"
   ]
  },
  {
   "cell_type": "code",
   "execution_count": 148,
   "metadata": {},
   "outputs": [
    {
     "name": "stdout",
     "output_type": "stream",
     "text": [
      "Multinomial Naive Bayes\n",
      "F1 Score:\t 0.7716629664127549\n",
      "Accuracy Score:\t 0.8433371177622796\n",
      "Recall Score:\t 0.8433371177622796\n"
     ]
    }
   ],
   "source": [
    "nb = MultinomialNB()\n",
    "\n",
    "nb.fit(np.array(train_2['scores'] + 1).reshape(-1, 1), train_2['positive'])\n",
    "\n",
    "yhat = nb.predict(np.array(test_2['positive'] + 1).reshape(-1, 1))\n",
    "\n",
    "#match = np.where(yhat == test['stars'], 1, 0)\n",
    "#np.mean(match) # ACCURACY\n",
    "\n",
    "print(\"Multinomial Naive Bayes\")\n",
    "print(\"F1 Score:\\t\", f1_score(test_2['positive'], yhat, average = 'weighted'))\n",
    "print(\"Accuracy Score:\\t\", accuracy_score(test_2['positive'], yhat))\n",
    "#print(\"Precision Score:\", precision_score(test_2['positive'], yhat, average = 'weighted'))\n",
    "print(\"Recall Score:\\t\", recall_score(test_2['positive'], yhat, average = 'weighted'))"
   ]
  },
  {
   "cell_type": "markdown",
   "metadata": {},
   "source": [
    "## Random forest classifier"
   ]
  },
  {
   "cell_type": "code",
   "execution_count": 149,
   "metadata": {},
   "outputs": [],
   "source": [
    "rfc = RandomForestClassifier()\n",
    "\n",
    "rfc.fit(np.array(train_2['scores'] + 1).reshape(-1, 1), train_2['positive'])\n",
    "\n",
    "yhat = rfc.predict(np.array(test_2['positive'] + 1).reshape(-1, 1))\n",
    "\n",
    "#match = np.where(yhat == test['stars'], 1, 0)\n",
    "#np.mean(match) # ACCURACY\n"
   ]
  },
  {
   "cell_type": "code",
   "execution_count": 147,
   "metadata": {},
   "outputs": [
    {
     "name": "stdout",
     "output_type": "stream",
     "text": [
      "Random Forest Classifier\n",
      "F1 Score:\t 0.7716629664127549\n",
      "Accuracy Score:\t 0.8433371177622796\n",
      "Precision Score: 0.711217494195589\n",
      "Recall Score:\t 0.8433371177622796\n"
     ]
    }
   ],
   "source": [
    "print(\"Random Forest Classifier\")\n",
    "print(\"F1 Score:\\t\", f1_score(test_2['positive'], yhat, average = 'weighted'))\n",
    "print(\"Accuracy Score:\\t\", accuracy_score(test_2['positive'], yhat))\n",
    "print(\"Precision Score:\", precision_score(test_2['positive'], yhat, average = 'weighted'))\n",
    "print(\"Recall Score:\\t\", recall_score(test_2['positive'], yhat, average = 'weighted'))"
   ]
  },
  {
   "cell_type": "code",
   "execution_count": null,
   "metadata": {},
   "outputs": [],
   "source": []
  },
  {
   "cell_type": "code",
   "execution_count": null,
   "metadata": {},
   "outputs": [],
   "source": []
  },
  {
   "cell_type": "code",
   "execution_count": null,
   "metadata": {},
   "outputs": [],
   "source": []
  },
  {
   "cell_type": "code",
   "execution_count": null,
   "metadata": {},
   "outputs": [],
   "source": []
  },
  {
   "cell_type": "code",
   "execution_count": null,
   "metadata": {},
   "outputs": [],
   "source": []
  }
 ],
 "metadata": {
  "kernelspec": {
   "display_name": "Python 3",
   "language": "python",
   "name": "python3"
  },
  "language_info": {
   "codemirror_mode": {
    "name": "ipython",
    "version": 3
   },
   "file_extension": ".py",
   "mimetype": "text/x-python",
   "name": "python",
   "nbconvert_exporter": "python",
   "pygments_lexer": "ipython3",
   "version": "3.7.7"
  }
 },
 "nbformat": 4,
 "nbformat_minor": 4
}
